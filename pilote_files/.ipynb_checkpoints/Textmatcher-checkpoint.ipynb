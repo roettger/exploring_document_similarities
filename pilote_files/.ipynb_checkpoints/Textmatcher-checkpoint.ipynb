{
 "cells": [
  {
   "cell_type": "markdown",
   "metadata": {},
   "source": [
    "# Textmatcher\n",
    "\n",
    "Exploration of pilot_files corpus and the tool textmatcher. The goal is to find text reuses such as citation, quotation or intertextuality. \n",
    "\n",
    "\n",
    "Reference for the tool: \n",
    "\n",
    "@misc{Reeve2020,\n",
    "  author = {Reeve, Jonathan},\n",
    "  title = {Text-Matcher},\n",
    "  year = {2020},\n",
    "  publisher = {GitHub},\n",
    "  journal = {GitHub repository},\n",
    "  howpublished = {\\url{https://github.com/JonathanReeve/text-matcher}},\n",
    "  commit = {988d9422a63165225ea136fc31427b1e57814505},\n",
    "  doi = {10.5281/zenodo.3937738}\n",
    "}\n",
    "\n",
    "\n"
   ]
  },
  {
   "cell_type": "code",
   "execution_count": 2,
   "metadata": {},
   "outputs": [
    {
     "name": "stdout",
     "output_type": "stream",
     "text": [
      "Requirement already satisfied: text-matcher in c:\\users\\administrator\\anaconda\\lib\\site-packages (0.1.6)\n",
      "Requirement already satisfied: termcolor in c:\\users\\administrator\\anaconda\\lib\\site-packages (from text-matcher) (1.1.0)\n",
      "Requirement already satisfied: nltk in c:\\users\\administrator\\anaconda\\lib\\site-packages (from text-matcher) (3.5)\n",
      "Requirement already satisfied: Click in c:\\users\\administrator\\anaconda\\lib\\site-packages (from text-matcher) (7.1.2)\n",
      "Requirement already satisfied: regex in c:\\users\\administrator\\anaconda\\lib\\site-packages (from nltk->text-matcher) (2020.6.8)\n",
      "Requirement already satisfied: tqdm in c:\\users\\administrator\\anaconda\\lib\\site-packages (from nltk->text-matcher) (4.47.0)\n",
      "Requirement already satisfied: joblib in c:\\users\\administrator\\anaconda\\lib\\site-packages (from nltk->text-matcher) (0.16.0)\n",
      "Note: you may need to restart the kernel to use updated packages.\n"
     ]
    }
   ],
   "source": [
    "pip install text-matcher "
   ]
  },
  {
   "cell_type": "code",
   "execution_count": 7,
   "metadata": {},
   "outputs": [
    {
     "name": "stderr",
     "output_type": "stream",
     "text": [
      "[nltk_data] Downloading package stopwords to\n",
      "[nltk_data]     C:\\Users\\Administrator\\AppData\\Roaming\\nltk_data...\n",
      "[nltk_data]   Package stopwords is already up-to-date!\n"
     ]
    },
    {
     "data": {
      "text/plain": [
       "True"
      ]
     },
     "execution_count": 7,
     "metadata": {},
     "output_type": "execute_result"
    }
   ],
   "source": [
    "import text_matcher\n",
    "from text_matcher import matcher\n",
    "import nltk\n",
    "nltk.download('stopwords')"
   ]
  },
  {
   "cell_type": "code",
   "execution_count": 9,
   "metadata": {},
   "outputs": [],
   "source": [
    "ta = matcher.Text(open('Laclos_Liaisons.txt', errors=\"ignore\", encoding=\"utf-8\").read(), 'Laclos_Liaisons')\n",
    "tb = matcher.Text(open('Rousseau_Julie.txt', errors=\"ignore\", encoding=\"utf-8\").read(), 'Rousseau_Julie')\n",
    "tc =  matcher.Text(open('Bernardin_Paul.txt', errors=\"ignore\", encoding=\"utf-8\").read(), 'Bernardin_Paul')\n",
    "td =  matcher.Text(open('sade_justine.txt', errors=\"ignore\", encoding=\"utf-8\").read(), 'sade_justine')\n",
    "te = matcher.Text(open('sade_aline.txt', errors=\"ignore\", encoding=\"utf-8\").read(), 'sade_aline')\n",
    "tf = matcher.Text(open('bible.txt', errors=\"ignore\", encoding=\"utf-8\").read(), 'bible')\n",
    "tg = matcher.Text(open('maistre_voyage.txt', errors=\"ignore\", encoding=\"utf-8\").read(), 'maistre_voyage')\n",
    "th = matcher.Text(open('senac_emigre.txt', errors=\"ignore\", encoding=\"utf-8\").read(), 'senac_emigre')"
   ]
  },
  {
   "cell_type": "code",
   "execution_count": 10,
   "metadata": {},
   "outputs": [
    {
     "name": "stdout",
     "output_type": "stream",
     "text": [
      "5 total matches found.\n",
      "\n",
      "\n",
      "match 1:\n",
      "\u001b[32mLaclos_Liaisons\u001b[0m: (406445, 406483) vous n'auriez jamais à vous plaindre \u001b[31mde moi : mais si vous ne me croyez pas\u001b[0m nous serons toujours bien malheureux\n",
      "\u001b[32mbible\u001b[0m: (3949926, 3949964) en moi ; car il a écrit \u001b[31mde moi. 47 Mais si vous ne croyez pas\u001b[0m ses écrits, comment croirez-vous\n"
     ]
    },
    {
     "data": {
      "text/plain": [
       "(1, [(406445, 406483)], [(3949926, 3949964)])"
      ]
     },
     "execution_count": 10,
     "metadata": {},
     "output_type": "execute_result"
    }
   ],
   "source": [
    "matcher.Matcher(ta, tf).match()"
   ]
  },
  {
   "cell_type": "code",
   "execution_count": 11,
   "metadata": {},
   "outputs": [
    {
     "name": "stdout",
     "output_type": "stream",
     "text": [
      "10 total matches found.\n",
      "Extending match forwards with words: le le\n",
      "\n",
      "\n",
      "match 1:\n",
      "\u001b[32mRousseau_Julie\u001b[0m: (416318, 416356) même. Je suis convaincu qu \u001b[31mil n’est pas bon que l’homme soit seul\u001b[0m Les âmes humaines veulent être\n",
      "\u001b[32mbible\u001b[0m: (11754, 11792) mort. 18 Or, l’Éternel Dieu avait dit \u001b[31mIl n’est pas bon que l’homme soit seul\u001b[0m je lui ferai une aide\n",
      "\n",
      "\n",
      "match 2:\n",
      "\u001b[32mRousseau_Julie\u001b[0m: (1226682, 1226714) de gaieté; mais, en mettant \u001b[31mle pied sur le seuil de la porte\u001b[0m le discours, la gaieté, tout\n",
      "\u001b[32mbible\u001b[0m: (1461339, 1461372) Tirtsa ; et comme elle mettait \u001b[31mle pied sur le seuil de la maison\u001b[0m le jeune garçon mourut ; 18 et\n",
      "\n",
      "\n",
      "match 3:\n",
      "\u001b[32mRousseau_Julie\u001b[0m: (1239404, 1239434) semble en ce moment étendu \u001b[31msur la face de la terre; enfin\u001b[0m le voile de brouillard que\n",
      "\u001b[32mbible\u001b[0m: (2656124, 2656158) royaumes des pays qui sont \u001b[31msur la face de la terre. 18 Enfin\u001b[0m son trafic et son salaire\n"
     ]
    },
    {
     "data": {
      "text/plain": [
       "(3,\n",
       " [(416318, 416356), (1226682, 1226714), (1239404, 1239434)],\n",
       " [(11754, 11792), (1461339, 1461372), (2656124, 2656158)])"
      ]
     },
     "execution_count": 11,
     "metadata": {},
     "output_type": "execute_result"
    }
   ],
   "source": [
    "matcher.Matcher(tb, tf).match()"
   ]
  },
  {
   "cell_type": "code",
   "execution_count": 24,
   "metadata": {},
   "outputs": [
    {
     "name": "stdout",
     "output_type": "stream",
     "text": [
      "5 total matches found.\n",
      "\n",
      "\n",
      "match 1:\n",
      "\u001b[32mLaclos_Liaisons\u001b[0m: (406445, 406483) vous n'auriez jamais à vous plaindre \u001b[31mde moi : mais si vous ne me croyez pas\u001b[0m nous serons toujours bien malheureux\n",
      "\u001b[32mbible\u001b[0m: (3949926, 3949964) en moi ; car il a écrit \u001b[31mde moi. 47 Mais si vous ne croyez pas\u001b[0m ses écrits, comment croirez-vous\n"
     ]
    },
    {
     "data": {
      "text/plain": [
       "(1, [(406445, 406483)], [(3949926, 3949964)])"
      ]
     },
     "execution_count": 24,
     "metadata": {},
     "output_type": "execute_result"
    }
   ],
   "source": [
    "matcher.Matcher(tc, tf).match()"
   ]
  },
  {
   "cell_type": "code",
   "execution_count": 53,
   "metadata": {},
   "outputs": [
    {
     "name": "stdout",
     "output_type": "stream",
     "text": [
      "5 total matches found.\n",
      "\n",
      "\n",
      "match 1:\n",
      "\u001b[32msade_justine\u001b[0m: (206218, 206246) cette même action en crime \u001b[31mIl en est de même de toutes\u001b[0m les autres actions maladroitement considérées\n",
      "\u001b[32mbible\u001b[0m: (3934344, 3934369) vient, ni où il va \u001b[31mIl en est de même de tout\u001b[0m homme qui est né de\n"
     ]
    },
    {
     "data": {
      "text/plain": [
       "(1, [(206218, 206246)], [(3934344, 3934369)])"
      ]
     },
     "execution_count": 53,
     "metadata": {},
     "output_type": "execute_result"
    }
   ],
   "source": [
    "matcher.Matcher(td, tf).match()"
   ]
  },
  {
   "cell_type": "code",
   "execution_count": 25,
   "metadata": {},
   "outputs": [
    {
     "name": "stdout",
     "output_type": "stream",
     "text": [
      "8 total matches found.\n",
      "\n",
      "\n",
      "match 1:\n",
      "\u001b[32msade_aline\u001b[0m: (32823, 32851) aurais réussi; qu’elle s’échapperait \u001b[31mde la maison de son père, et\u001b[0m viendrait s’ensevelir toute vivante dans\n",
      "\u001b[32mbible\u001b[0m: (821088, 821116) la jeune fille à la porte \u001b[31mde la maison de son père, et\u001b[0m les gens de la ville\n",
      "\n",
      "\n",
      "match 2:\n",
      "\u001b[32msade_aline\u001b[0m: (82537, 82564) vous offrir pour le présent \u001b[31mque ce que je viens de vous\u001b[0m dire, acceptez-le, croyez-moi\n",
      "\u001b[32mbible\u001b[0m: (4251969, 4251996) personnes à ne pas penser autrement \u001b[31mque ce que je viens de vous\u001b[0m crire ; de peur que vous\n",
      "\n",
      "\n",
      "match 3:\n",
      "\u001b[32msade_aline\u001b[0m: (670484, 670522) demande quelques éclaircissemens. Il exista \u001b[31mdans tous les siècles et dans tous les\u001b[0m pays, une classe d’hommes qui\n",
      "\u001b[32mbible\u001b[0m: (4399947, 4399985) mystère qui avait été caché \u001b[31mdans tous les siècles et dans tous les\u001b[0m temps, mais qu’il a maintenant\n"
     ]
    },
    {
     "data": {
      "text/plain": [
       "(3,\n",
       " [(32823, 32851), (82537, 82564), (670484, 670522)],\n",
       " [(821088, 821116), (4251969, 4251996), (4399947, 4399985)])"
      ]
     },
     "execution_count": 25,
     "metadata": {},
     "output_type": "execute_result"
    }
   ],
   "source": [
    "matcher.Matcher(te, tf).match()"
   ]
  },
  {
   "cell_type": "code",
   "execution_count": 26,
   "metadata": {},
   "outputs": [
    {
     "name": "stdout",
     "output_type": "stream",
     "text": [
      "1 total matches found.\n"
     ]
    },
    {
     "data": {
      "text/plain": [
       "(0, [], [])"
      ]
     },
     "execution_count": 26,
     "metadata": {},
     "output_type": "execute_result"
    }
   ],
   "source": [
    "matcher.Matcher(tg, tf).match()"
   ]
  },
  {
   "cell_type": "code",
   "execution_count": 27,
   "metadata": {},
   "outputs": [
    {
     "name": "stdout",
     "output_type": "stream",
     "text": [
      "7 total matches found.\n",
      "\n",
      "\n",
      "match 1:\n",
      "\u001b[32msenac_emigre\u001b[0m: (435319, 435347) devinrent insensibles. Que conclure de \u001b[31mce que je viens de vous dire\u001b[0m sinon, que rien n'est durable\n",
      "\u001b[32mbible\u001b[0m: (4251831, 4251859) louange. 6 Or, mes frères, j’ai tourné \u001b[31mce que je viens de vous dire\u001b[0m sur moi et sur Apollos\n"
     ]
    },
    {
     "data": {
      "text/plain": [
       "(1, [(435319, 435347)], [(4251831, 4251859)])"
      ]
     },
     "execution_count": 27,
     "metadata": {},
     "output_type": "execute_result"
    }
   ],
   "source": [
    "matcher.Matcher(th, tf).match()"
   ]
  },
  {
   "cell_type": "code",
   "execution_count": 28,
   "metadata": {},
   "outputs": [
    {
     "name": "stdout",
     "output_type": "stream",
     "text": [
      "8 total matches found.\n",
      "\n",
      "\n",
      "match 1:\n",
      "\u001b[32mLaclos_Liaisons\u001b[0m: (504946, 505032) tarder. Du château de... 10 octobre \u001b[31mPuissances du ciel, j'avais une âme pour la douleur ; donnez-m'en une pour la félicité\u001b[0m est, je crois, le tendre\n",
      "\u001b[32mRousseau_Julie\u001b[0m: (20041, 20126) reste avant celui de mourir \u001b[31mPuissances du Ciel! j’avais une âme pour la douleur, donnez-m’en une pour la félicité\u001b[0m Amour, vie de l’âme, viens soutenir\n",
      "\n",
      "\n",
      "match 2:\n",
      "\u001b[32mLaclos_Liaisons\u001b[0m: (581107, 581138) pour toujours ? --- Je le dois \u001b[31mJe n'ai pas besoin de vous dire\u001b[0m que pendant ce court dialogue\n",
      "\u001b[32mRousseau_Julie\u001b[0m: (1271135, 1271166) de vos nouvelles avec impatience \u001b[31mje n’ai pas besoin de vous dire\u001b[0m combien vos lettres ont fait\n"
     ]
    },
    {
     "data": {
      "text/plain": [
       "(2, [(504946, 505032), (581107, 581138)], [(20041, 20126), (1271135, 1271166)])"
      ]
     },
     "execution_count": 28,
     "metadata": {},
     "output_type": "execute_result"
    }
   ],
   "source": [
    "matcher.Matcher(ta, tb).match()"
   ]
  },
  {
   "cell_type": "code",
   "execution_count": 29,
   "metadata": {},
   "outputs": [
    {
     "name": "stdout",
     "output_type": "stream",
     "text": [
      "7 total matches found.\n",
      "\n",
      "\n",
      "match 1:\n",
      "\u001b[32mLaclos_Liaisons\u001b[0m: (122644, 122678) cette ruse diabolique. Vous me connaissez \u001b[31mje n'ai pas besoin de vous peindre\u001b[0m fureur. Il fallut pourtant reprendre\n",
      "\u001b[32msade_justine\u001b[0m: (59579, 59613) enterreront au pied d'un arbre \u001b[31mJe n'ai pas besoin de vous peindre\u001b[0m effet que me fit cette cruelle\n",
      "\n",
      "\n",
      "match 2:\n",
      "\u001b[32mLaclos_Liaisons\u001b[0m: (581107, 581138) pour toujours ? --- Je le dois \u001b[31mJe n'ai pas besoin de vous dire\u001b[0m que pendant ce court dialogue\n",
      "\u001b[32msade_justine\u001b[0m: (607940, 607971) les mains de M. de Cardoville \u001b[31mje n'ai pas besoin de vous dire\u001b[0m la place qu'il occupe ; qu'il\n"
     ]
    },
    {
     "data": {
      "text/plain": [
       "(2, [(122644, 122678), (581107, 581138)], [(59579, 59613), (607940, 607971)])"
      ]
     },
     "execution_count": 29,
     "metadata": {},
     "output_type": "execute_result"
    }
   ],
   "source": [
    "matcher.Matcher(ta, td).match()"
   ]
  },
  {
   "cell_type": "code",
   "execution_count": 30,
   "metadata": {},
   "outputs": [
    {
     "name": "stdout",
     "output_type": "stream",
     "text": [
      "5 total matches found.\n",
      "\n",
      "\n",
      "match 1:\n",
      "\u001b[32mRousseau_Julie\u001b[0m: (275905, 275933) chére Julie, & sur le récit \u001b[31mde ce qui vient de se passer\u001b[0m connais, & partage les sentiments que\n",
      "\u001b[32msade_justine\u001b[0m: (601919, 601948) de dire un seul mot \u001b[31mde ce qui vient de se passer\u001b[0m en vous chargeant des crimes\n",
      "\n",
      "\n",
      "match 2:\n",
      "\u001b[32mRousseau_Julie\u001b[0m: (1271135, 1271166) de vos nouvelles avec impatience \u001b[31mje n’ai pas besoin de vous dire\u001b[0m combien vos lettres ont fait\n",
      "\u001b[32msade_justine\u001b[0m: (607940, 607971) les mains de M. de Cardoville \u001b[31mje n'ai pas besoin de vous dire\u001b[0m la place qu'il occupe ; qu'il\n"
     ]
    },
    {
     "data": {
      "text/plain": [
       "(2,\n",
       " [(275905, 275933), (1271135, 1271166)],\n",
       " [(601919, 601948), (607940, 607971)])"
      ]
     },
     "execution_count": 30,
     "metadata": {},
     "output_type": "execute_result"
    }
   ],
   "source": [
    "matcher.Matcher(tb, td).match()"
   ]
  },
  {
   "cell_type": "code",
   "execution_count": null,
   "metadata": {},
   "outputs": [],
   "source": []
  }
 ],
 "metadata": {
  "kernelspec": {
   "display_name": "Python 3",
   "language": "python",
   "name": "python3"
  },
  "language_info": {
   "codemirror_mode": {
    "name": "ipython",
    "version": 3
   },
   "file_extension": ".py",
   "mimetype": "text/x-python",
   "name": "python",
   "nbconvert_exporter": "python",
   "pygments_lexer": "ipython3",
   "version": "3.8.3"
  }
 },
 "nbformat": 4,
 "nbformat_minor": 4
}
